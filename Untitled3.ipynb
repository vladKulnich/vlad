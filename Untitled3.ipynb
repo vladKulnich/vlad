{
  "nbformat": 4,
  "nbformat_minor": 0,
  "metadata": {
    "colab": {
      "provenance": []
    },
    "kernelspec": {
      "name": "python3",
      "display_name": "Python 3"
    },
    "language_info": {
      "name": "python"
    }
  },
  "cells": [
    {
      "cell_type": "code",
      "execution_count": 7,
      "metadata": {
        "colab": {
          "base_uri": "https://localhost:8080/"
        },
        "id": "-p3kV6rdoMUm",
        "outputId": "1340e9fb-7952-462e-e261-e24a1781c322"
      },
      "outputs": [
        {
          "output_type": "stream",
          "name": "stdout",
          "text": [
            "найден відрізок:  [-1, 0]\n"
          ]
        }
      ],
      "source": [
        "import math\n",
        "import numpy as np\n",
        "from scipy.misc import derivative\n",
        "def f(x):\n",
        "\n",
        "   return pow(x, 4) -12*pow(x,3)  - 9\n",
        "\n",
        "eps=0.0001\n",
        "def find_segments(): #відокремлюємо корені\n",
        "\n",
        "    search_range = np.arange(-10, 10, 1)\n",
        "    a = None\n",
        "\n",
        "    previous_x = None\n",
        "\n",
        "    current_x  = None\n",
        "\n",
        "    segments = []\n",
        "    for x in search_range:\n",
        "\n",
        "        x = round(x, 4)\n",
        "\n",
        "        current_x = f(x)\n",
        "\n",
        "        if previous_x != None and previous_x * current_x < 0:\n",
        "\n",
        "            segments.append((a, x))\n",
        "\n",
        "        a = x\n",
        "\n",
        "        previous_x = current_x\n",
        "\n",
        "    return segments\n",
        "segments = find_segments()\n",
        "for a, b in segments:\n",
        "  print(f'найден відрізок:  [{a}, {b}]')"
      ]
    },
    {
      "cell_type": "code",
      "source": [
        "def rec(a, b, eps): #метод половинного ділення\n",
        "\n",
        "    while (abs(a-b) > eps):\n",
        "\n",
        "        if f(a)*f((a+b)/2)<0:\n",
        "\n",
        "            b = (a+b)/2\n",
        "\n",
        "        else:\n",
        "\n",
        "            a = (a+b)/2\n",
        "\n",
        "        x = (a+b)/2\n",
        "\n",
        "\n",
        "\n",
        "    print ('x= ', round(x,5), '  -   метод пол. ділення')\n",
        "rec (a,b,eps) #викликаємо метод пол. ділення для  відрізка"
      ],
      "metadata": {
        "colab": {
          "base_uri": "https://localhost:8080/"
        },
        "id": "qWGjjAvrpLWJ",
        "outputId": "d9eec397-48c9-470b-f5af-f2099dc49e33"
      },
      "execution_count": 11,
      "outputs": [
        {
          "output_type": "stream",
          "name": "stdout",
          "text": [
            "x=  -0.88724   -   метод пол. ділення\n"
          ]
        }
      ]
    },
    {
      "cell_type": "code",
      "source": [
        "def hord (a,b,eps): #метод хорд\n",
        "\n",
        "    if (f(a)*derivative(f,a,n=2)>0):\n",
        "\n",
        "        x0=a\n",
        "\n",
        "        xi=b\n",
        "\n",
        "    else:\n",
        "\n",
        "        x0=b\n",
        "\n",
        "        xi=a\n",
        "\n",
        "    xi_1=xi-(xi-x0)*f(xi)/(f(xi)-f(x0))\n",
        "\n",
        "    while (abs(xi_1-xi)>eps):\n",
        "\n",
        "        xi=xi_1\n",
        "\n",
        "        xi_1=xi-(xi-x0)*f(xi)/(f(xi)-f(x0))\n",
        "\n",
        "    print('x= ', round (xi_1,5) , '  -    метод хорд')\n",
        "hord (a,b,eps) #викликаємо метод хорд для  відрізка"
      ],
      "metadata": {
        "colab": {
          "base_uri": "https://localhost:8080/"
        },
        "id": "ITXiTbPKpceK",
        "outputId": "c9e59c98-c3be-4465-cc31-7b88c04593e2"
      },
      "execution_count": 12,
      "outputs": [
        {
          "output_type": "stream",
          "name": "stdout",
          "text": [
            "x=  -0.88721   -    метод хорд\n"
          ]
        },
        {
          "output_type": "stream",
          "name": "stderr",
          "text": [
            "<ipython-input-12-e6553e1ae899>:3: DeprecationWarning: scipy.misc.derivative is deprecated in SciPy v1.10.0; and will be completely removed in SciPy v1.12.0. You may consider using findiff: https://github.com/maroba/findiff or numdifftools: https://github.com/pbrod/numdifftools\n",
            "  if (f(a)*derivative(f,a,n=2)>0):\n"
          ]
        }
      ]
    }
  ]
}