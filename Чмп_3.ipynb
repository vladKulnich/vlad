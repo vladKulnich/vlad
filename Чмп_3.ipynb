{
  "nbformat": 4,
  "nbformat_minor": 0,
  "metadata": {
    "colab": {
      "provenance": []
    },
    "kernelspec": {
      "name": "python3",
      "display_name": "Python 3"
    },
    "language_info": {
      "name": "python"
    }
  },
  "cells": [
    {
      "cell_type": "code",
      "execution_count": null,
      "metadata": {
        "id": "-p3kV6rdoMUm",
        "outputId": "ac0c92f4-b2ca-4ccd-b06d-6e6a8fd7eb96",
        "colab": {
          "base_uri": "https://localhost:8080/"
        }
      },
      "outputs": [
        {
          "output_type": "stream",
          "name": "stdout",
          "text": [
            "найден:  [-1, 0]\n"
          ]
        }
      ],
      "source": [
        "import math\n",
        "\n",
        "import numpy as np\n",
        "\n",
        "from scipy.misc import derivative\n",
        "\n",
        "def f(x):\n",
        "\n",
        "   return pow(x, 4) -12*pow(x,3)  - 9\n",
        "\n",
        "eps=0.0001\n",
        "\n",
        "\n",
        "\n",
        "def find_segments(): #відокремлюємо корені\n",
        "\n",
        "    search_range = np.arange(-10, 10, 1)\n",
        "\n",
        "\n",
        "\n",
        "    a = None\n",
        "\n",
        "    previous_x = None\n",
        "\n",
        "    current_x  = None\n",
        "\n",
        "    segments = []\n",
        "\n",
        "\n",
        "\n",
        "    for x in search_range:\n",
        "\n",
        "        x = round(x, 4)\n",
        "\n",
        "        current_x = f(x)\n",
        "\n",
        "        if previous_x != None and previous_x * current_x < 0:\n",
        "\n",
        "            segments.append((a, x))\n",
        "\n",
        "        a = x\n",
        "\n",
        "        previous_x = current_x\n",
        "\n",
        "    return segments\n",
        "\n",
        "\n",
        "\n",
        "segments = find_segments()\n",
        "\n",
        "for a, b in segments:\n",
        "\n",
        "    print(f'найден:  [{a}, {b}]')"
      ]
    },
    {
      "cell_type": "code",
      "source": [
        "def f_prime(x):\n",
        "    return 4*x**3 - 36*x**2\n",
        "\n",
        "def newton_method(a,eps, max_iterations):\n",
        "    x = a\n",
        "    iteration = 0\n",
        "\n",
        "    while abs(f(x)) > eps and iteration < max_iterations:\n",
        "        x = x - f(x) / f_prime(x)\n",
        "        iteration += 1\n",
        "\n",
        "    if abs(f(x)) <= eps:\n",
        "        return x\n",
        "    else:\n",
        "        print(\"Метод Ньютона не знайшов корінь з необхідною точністю.\")\n",
        "        return None\n",
        "max_iterations = 1000\n",
        "\n",
        "root = newton_method(a, eps, max_iterations)\n",
        "\n",
        "if root is not None:\n",
        "    print('метод Ньютона ')\n",
        "    print(f\"Корінь рівняння  дорівнює {root:.4f}\")"
      ],
      "metadata": {
        "id": "kv5wMcSw_AGl",
        "outputId": "9c63bc85-f076-498a-e3d9-f1e7ce9e4171",
        "colab": {
          "base_uri": "https://localhost:8080/"
        }
      },
      "execution_count": null,
      "outputs": [
        {
          "output_type": "stream",
          "name": "stdout",
          "text": [
            "метод Ньютона \n",
            "Корінь рівняння  дорівнює -0.8872\n"
          ]
        }
      ]
    },
    {
      "cell_type": "code",
      "source": [
        "def combined_method(a, eps, max_iterations):\n",
        "    x = a\n",
        "    iteration = 0\n",
        "\n",
        "    while abs(f(x)) > eps and iteration < max_iterations:\n",
        "        if abs(f_prime(x)) < 1e-6:\n",
        "            print(\"Метод січень не застосовний, перехід до методу дотичних.\")\n",
        "            break\n",
        "        x = x - f(x) / f_prime(x)\n",
        "        iteration += 1\n",
        "\n",
        "    if abs(f(x)) <= eps:\n",
        "        return x\n",
        "    else:\n",
        "        print(\"Метод комбінованого методу не знайшов корінь з необхідною точністю.\")\n",
        "        return None\n",
        "root = combined_method(a, eps, max_iterations)\n",
        "\n",
        "if root is not None:\n",
        "    print('Комбінований метод  ')\n",
        "    print(f\"Корінь рівняння дорівнює {root:.4f}\")\n"
      ],
      "metadata": {
        "id": "0vHEGAXaCYmK",
        "outputId": "fb6cc825-29ad-48ef-8fe9-11c33d245a9c",
        "colab": {
          "base_uri": "https://localhost:8080/"
        }
      },
      "execution_count": null,
      "outputs": [
        {
          "output_type": "stream",
          "name": "stdout",
          "text": [
            "Комбінований метод  \n",
            "Корінь рівняння дорівнює -0.8872\n"
          ]
        }
      ]
    }
  ]
}