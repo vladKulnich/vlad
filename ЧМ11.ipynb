{
  "nbformat": 4,
  "nbformat_minor": 0,
  "metadata": {
    "colab": {
      "provenance": []
    },
    "kernelspec": {
      "name": "python3",
      "display_name": "Python 3"
    },
    "language_info": {
      "name": "python"
    }
  },
  "cells": [
    {
      "cell_type": "code",
      "execution_count": 8,
      "metadata": {
        "colab": {
          "base_uri": "https://localhost:8080/"
        },
        "id": "8LNJetPLrAe9",
        "outputId": "9867f70a-9254-4859-d067-b6a5f3e2490a"
      },
      "outputs": [
        {
          "output_type": "stream",
          "name": "stdout",
          "text": [
            "Trapetzia methodof: 0.718\n",
            "Check for the trapetzia method=  0.72032\n"
          ]
        }
      ],
      "source": [
        "#Обчислення інтегралу методом трапецій\n",
        "from scipy import integrate\n",
        "\n",
        "import numpy as np\n",
        "\n",
        "def f(x):\n",
        "\n",
        "    return 1 / np.sqrt(x**2-3)\n",
        "\n",
        "a = 2.1\n",
        "b = 3.6\n",
        "n = 20\n",
        "def trapezoidal_rule(f, a, b, n):\n",
        "\n",
        "    h = (b - a) / n\n",
        "\n",
        "    x = a\n",
        "\n",
        "    sum = 0\n",
        "\n",
        "    for i in range(1, n):\n",
        "\n",
        "        x += h\n",
        "\n",
        "        sum += 2 * f(x)\n",
        "\n",
        "    sum += f(b)\n",
        "\n",
        "    integral = h / 2 * sum\n",
        "    return integral\n",
        "\n",
        "integral1 = trapezoidal_rule(f, a, b, n)\n",
        "\n",
        "n *= 2\n",
        "\n",
        "integral2 = trapezoidal_rule(f, a, b, n)\n",
        "\n",
        "while abs(integral2 - integral1) / 3 > 0.001:\n",
        "\n",
        "    integral1 = integral2\n",
        "\n",
        "    n *= 2\n",
        "\n",
        "    integral2 = trapezoidal_rule(f, a, b, n)\n",
        "\n",
        "print(\"Trapetzia methodof:\", round(integral2, 3))\n",
        "\n",
        "v,err = integrate.quad(f,a,b) #Перевірка\n",
        "\n",
        "print(\"Check for the trapetzia method= \",round(v, 5))"
      ]
    },
    {
      "cell_type": "code",
      "source": [
        "#Обчислення інтеграла методом прямокутників\n",
        "from scipy import integrate\n",
        "import numpy as np\n",
        "\n",
        "eps = 0.001\n",
        "a = 0.4\n",
        "b = 1.2\n",
        "n=10\n",
        "def f1(x):\n",
        "\n",
        "    return 1/np.sqrt(x+3)\n",
        "\n",
        "def left_rec(f1,a,b,n):\n",
        "\n",
        "    h=(b-a)/n\n",
        "\n",
        "    sum=0\n",
        "\n",
        "    for i in range(0,n):\n",
        "\n",
        "        sum+=f1(a+i*h)\n",
        "\n",
        "    return sum*h\n",
        "\n",
        "v,err = integrate.quad(f1,a,b)#Перевірка\n",
        "\n",
        "#Перевірка точності за правилом Рунге:\n",
        "\n",
        "if abs(left_rec(f1,a,b,2*10) - left_rec(f1,a,b,10))/3. <=eps:\n",
        "\n",
        "    print(\"left rectangle:\",round (left_rec(f1,a,b,10), 5))\n",
        "\n",
        "def right_rec(f1,a,b,n):\n",
        "\n",
        "    h=(b-a)/n\n",
        "\n",
        "    sum=0\n",
        "\n",
        "    for i in range(1,n+1):\n",
        "\n",
        "        sum+=f1(a+i*h)\n",
        "\n",
        "    return sum*h\n",
        "\n",
        "print(\"right rectangle:\",round (right_rec(f1,a,b,10), 5))\n",
        "\n",
        "def aver_rec(f1,a,b,n):\n",
        "\n",
        "    h=0.08\n",
        "\n",
        "    sum=0\n",
        "\n",
        "    for i in range(0,n):\n",
        "\n",
        "        sum+=f1(a+i*h)\n",
        "\n",
        "    return sum*h\n",
        "\n",
        "print(\"average rectangle:\",round (aver_rec(f1,a,b,10), 5))\n",
        "\n",
        "print(\"Check for the rectangle method= \",round (v, 5))"
      ],
      "metadata": {
        "colab": {
          "base_uri": "https://localhost:8080/"
        },
        "id": "mSlduG-UsSRO",
        "outputId": "ee073181-6405-43f8-ece4-6d905efccb13"
      },
      "execution_count": 20,
      "outputs": [
        {
          "output_type": "stream",
          "name": "stdout",
          "text": [
            "left rectangle: 0.41315\n",
            "right rectangle: 0.4088\n",
            "average rectangle: 0.41315\n",
            "Check for the rectangle method=  0.41096\n"
          ]
        }
      ]
    },
    {
      "cell_type": "code",
      "source": [
        "#Обчислення інтеграла методом Симпсона\n",
        "\n",
        "from scipy import integrate\n",
        "import numpy as np\n",
        "def f(x):\n",
        "\n",
        "    return np.cos(x)/(x+2)\n",
        "\n",
        "a = 0.4\n",
        "b = 1.2\n",
        "n = 8\n",
        "def simpson_rule(f, a, b, n):\n",
        "\n",
        "    h = (b - a) / n\n",
        "\n",
        "    integr = f(a) + f(b)\n",
        "\n",
        "    for i in range(1,n):\n",
        "\n",
        "        k = a + i*h\n",
        "\n",
        "        if i%2 == 0:\n",
        "\n",
        "            integr += 2 * f(k)\n",
        "\n",
        "        else:\n",
        "\n",
        "            integr += 4 * f(k)\n",
        "\n",
        "    integr *= h/3\n",
        "\n",
        "    return integr\n",
        "\n",
        "integral1 = simpson_rule(f, a, b, n)\n",
        "\n",
        "n *= 2\n",
        "\n",
        "integral2 = simpson_rule(f, a, b, n)\n",
        "\n",
        "while abs(integral2 - integral1) / 15 > 0.001:\n",
        "\n",
        "    integral1 = integral2\n",
        "\n",
        "    n *= 2\n",
        "\n",
        "    integral2 = simpson_rule(f, a, b, n)\n",
        "\n",
        "print(\"Simpsone method:\", round(integral2,3))\n",
        "v,err = integrate.quad(f,a,b) #Перевірка\n",
        "\n",
        "print(\"Check for the simpsone method= \",round(v, 3) )"
      ],
      "metadata": {
        "colab": {
          "base_uri": "https://localhost:8080/"
        },
        "id": "6wyCmxhBtjEl",
        "outputId": "5383f221-d6b1-4231-8e87-93d4c074074a"
      },
      "execution_count": 18,
      "outputs": [
        {
          "output_type": "stream",
          "name": "stdout",
          "text": [
            "Simpsone method: 0.199\n",
            "Check for the simpsone method=  0.199\n"
          ]
        }
      ]
    }
  ]
}