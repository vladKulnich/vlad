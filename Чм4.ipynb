{
  "nbformat": 4,
  "nbformat_minor": 0,
  "metadata": {
    "colab": {
      "provenance": []
    },
    "kernelspec": {
      "name": "python3",
      "display_name": "Python 3"
    },
    "language_info": {
      "name": "python"
    }
  },
  "cells": [
    {
      "cell_type": "code",
      "execution_count": 18,
      "metadata": {
        "colab": {
          "base_uri": "https://localhost:8080/"
        },
        "id": "8bJsVvCfLw9l",
        "outputId": "b8746bbd-9082-4971-97ec-b41b649559d0"
      },
      "outputs": [
        {
          "output_type": "stream",
          "name": "stdout",
          "text": [
            "[[ 4  1  9]\n",
            " [-2 -6  3]\n",
            " [-8 -9  2]]\n"
          ]
        }
      ],
      "source": [
        "import numpy as np\n",
        "#1(2)\n",
        "a= np.array([[2, 3, 1], [-1, 1, 0], [1, 2, -1]])\n",
        "b= np.array([[1, 2, 1], [0, 1, 2], [3, 1, 1]])\n",
        "ab = np.dot(a, b)\n",
        "ba = np.dot(b, a)\n",
        "c = ab - ba\n",
        "print(c)\n",
        "\n"
      ]
    },
    {
      "cell_type": "code",
      "source": [
        "#2(1)\n",
        "a=np.array([[-1, 2], [0, 1]])\n",
        "a2 = np.dot(a, a)\n",
        "print(a2)\n"
      ],
      "metadata": {
        "colab": {
          "base_uri": "https://localhost:8080/"
        },
        "id": "MGnPGTXoNsjW",
        "outputId": "758feb85-0cd9-4fa9-ef5d-9089ba926767"
      },
      "execution_count": 35,
      "outputs": [
        {
          "output_type": "stream",
          "name": "stdout",
          "text": [
            "[[1 0]\n",
            " [0 1]]\n"
          ]
        }
      ]
    },
    {
      "cell_type": "code",
      "source": [
        "#3(3)\n",
        "a= np.array([[3, 0, 7], [-4, 2, 3], [-1, 1, 2]])\n",
        "b= np.array([[1], [2], [4]])\n",
        "ab = np.dot(a, b)\n",
        "print(ab)"
      ],
      "metadata": {
        "colab": {
          "base_uri": "https://localhost:8080/"
        },
        "id": "cxV5oyxKOvkb",
        "outputId": "715edccc-a9a7-4320-824b-d53faa569c86"
      },
      "execution_count": 19,
      "outputs": [
        {
          "output_type": "stream",
          "name": "stdout",
          "text": [
            "[[31]\n",
            " [12]\n",
            " [ 9]]\n"
          ]
        }
      ]
    },
    {
      "cell_type": "code",
      "source": [
        "#4(1)\n",
        "a= np.array([[2, 3, 4], [1, 0, 6], [7, 8, 9]])\n",
        "a_det = np.linalg.det(a)\n",
        "print(format(a_det, '.9g'))\n"
      ],
      "metadata": {
        "colab": {
          "base_uri": "https://localhost:8080/"
        },
        "id": "boQyTj4SQGS-",
        "outputId": "aac73d8c-9c69-444b-d9a8-680cab455541"
      },
      "execution_count": 11,
      "outputs": [
        {
          "output_type": "stream",
          "name": "stdout",
          "text": [
            "35\n"
          ]
        }
      ]
    },
    {
      "cell_type": "code",
      "source": [
        "#5(2)\n",
        "a= np.array([[2, 3, 4,1], [1, 2, 3,4], [3, 4, 1,2],[4, 1, 2,3]])\n",
        "a_det = np.linalg.det(a)\n",
        "print(format(a_det, '.9g'))"
      ],
      "metadata": {
        "colab": {
          "base_uri": "https://localhost:8080/"
        },
        "id": "wXZE-vLRQjQr",
        "outputId": "36c544f9-be64-4572-a2c7-04986359cdfb"
      },
      "execution_count": 13,
      "outputs": [
        {
          "output_type": "stream",
          "name": "stdout",
          "text": [
            "-160\n"
          ]
        }
      ]
    },
    {
      "cell_type": "code",
      "source": [
        "#6(1)\n",
        "a= np.array([[1, 2, -3], [0, 1, 2], [0,0,1]])\n",
        "a_ob = np.linalg.inv(a)\n",
        "print(a_ob)\n"
      ],
      "metadata": {
        "colab": {
          "base_uri": "https://localhost:8080/"
        },
        "id": "jrJ6SH1URdY1",
        "outputId": "d532dac1-07c0-4002-e302-d7333c32a4af"
      },
      "execution_count": 17,
      "outputs": [
        {
          "output_type": "stream",
          "name": "stdout",
          "text": [
            "[[ 1. -2.  7.]\n",
            " [ 0.  1. -2.]\n",
            " [ 0.  0.  1.]]\n"
          ]
        }
      ]
    },
    {
      "cell_type": "code",
      "source": [
        "#7(1)\n",
        "a = np.array([[1, 2, 3, 4],[3, -1, 2, 5], [1, 2, 3, 4], [1, 3, 4, 5]])\n",
        "rank = np.linalg.matrix_rank(a)\n",
        "print(rank)\n"
      ],
      "metadata": {
        "colab": {
          "base_uri": "https://localhost:8080/"
        },
        "id": "2xQHDIeoSq-x",
        "outputId": "2b6344ac-5805-49ec-d2a8-3147767e8579"
      },
      "execution_count": 44,
      "outputs": [
        {
          "output_type": "stream",
          "name": "stdout",
          "text": [
            "2\n"
          ]
        }
      ]
    },
    {
      "cell_type": "code",
      "source": [
        "#8(8)\n",
        "a = np.array([[1, 2, -1],[3, 4, 1],[5, 1, -3]])\n",
        "b = np.array([-3, 1, -2])\n",
        "a_inv = np.linalg.inv(a)\n",
        "xyz = np.dot(a_inv, b)\n",
        "print(xyz)\n",
        "print(\"x=\",xyz[0],\"y=\",xyz[1],\"z=\",xyz[2])\n",
        "result = np.linalg.solve(a, b).round(3)\n",
        "print(\"Результат за допомогою solve():\")\n",
        "print(result)"
      ],
      "metadata": {
        "colab": {
          "base_uri": "https://localhost:8080/"
        },
        "id": "4v7397GeTu5m",
        "outputId": "89f8fbb1-c39d-4273-8aea-63cbec2b4653"
      },
      "execution_count": 33,
      "outputs": [
        {
          "output_type": "stream",
          "name": "stdout",
          "text": [
            "[ 1. -1.  2.]\n",
            "x= 1.0 y= -1.0 z= 2.0\n",
            "Результат за допомогою solve():\n",
            "[ 1. -1.  2.]\n"
          ]
        }
      ]
    },
    {
      "cell_type": "code",
      "source": [
        "#2(5)\n",
        "import random\n",
        "n = 5\n",
        "m = 5\n",
        "a = np.random.randint(0, 100, size=(n, m))\n",
        "print(a)\n",
        "total_sum = np.sum(a)\n",
        "print(\"Сума всіх елементів матриці:\", total_sum)\n",
        "row_sums = np.sum(a, axis=1)\n",
        "print(\"Суми елементів кожного рядка:\")\n",
        "for i in range(len(row_sums)):\n",
        "    print(i+1,\" \",row_sums[i])\n",
        "dolyasum = row_sums / total_sum\n",
        "print(\"Долі сум кожного рядка в загальній сумі:\")\n",
        "for i in range(len(dolyasum)):\n",
        "    print(i+1,\" \",dolyasum[i])\n"
      ],
      "metadata": {
        "colab": {
          "base_uri": "https://localhost:8080/"
        },
        "id": "fKY6sYXWWtQl",
        "outputId": "77eb25d1-1dcb-48bc-b8ca-06fdda36579a"
      },
      "execution_count": 42,
      "outputs": [
        {
          "output_type": "stream",
          "name": "stdout",
          "text": [
            "[[44 89 81 82 70]\n",
            " [11 82 19 89 51]\n",
            " [11 91  8 71 41]\n",
            " [70 18 23 54 30]\n",
            " [71 63 53 44 95]]\n",
            "Сума всіх елементів матриці: 1361\n",
            "Суми елементів кожного рядка:\n",
            "1   366\n",
            "2   252\n",
            "3   222\n",
            "4   195\n",
            "5   326\n",
            "Долі сум кожного рядка в загальній сумі:\n",
            "1   0.2689199118295371\n",
            "2   0.18515797207935342\n",
            "3   0.16311535635562086\n",
            "4   0.14327700220426157\n",
            "5   0.23952975753122704\n"
          ]
        }
      ]
    }
  ]
}